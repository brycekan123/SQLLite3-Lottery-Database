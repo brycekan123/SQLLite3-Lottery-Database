{
 "cells": [
  {
   "cell_type": "code",
   "execution_count": 1,
   "id": "cee185cb",
   "metadata": {},
   "outputs": [],
   "source": [
    "import numpy as np\n",
    "import pandas as pd\n",
    "import re\n",
    "import sqlite3"
   ]
  },
  {
   "cell_type": "code",
   "execution_count": 2,
   "id": "51401c97",
   "metadata": {},
   "outputs": [
    {
     "data": {
      "text/html": [
       "<div>\n",
       "<style scoped>\n",
       "    .dataframe tbody tr th:only-of-type {\n",
       "        vertical-align: middle;\n",
       "    }\n",
       "\n",
       "    .dataframe tbody tr th {\n",
       "        vertical-align: top;\n",
       "    }\n",
       "\n",
       "    .dataframe thead th {\n",
       "        text-align: right;\n",
       "    }\n",
       "</style>\n",
       "<table border=\"1\" class=\"dataframe\">\n",
       "  <thead>\n",
       "    <tr style=\"text-align: right;\">\n",
       "      <th></th>\n",
       "      <th>Draw Date</th>\n",
       "      <th>Winning Numbers</th>\n",
       "      <th>Multiplier</th>\n",
       "    </tr>\n",
       "  </thead>\n",
       "  <tbody>\n",
       "    <tr>\n",
       "      <th>0</th>\n",
       "      <td>09/26/2020</td>\n",
       "      <td>11 21 27 36 62 24</td>\n",
       "      <td>3.0</td>\n",
       "    </tr>\n",
       "    <tr>\n",
       "      <th>1</th>\n",
       "      <td>09/30/2020</td>\n",
       "      <td>14 18 36 49 67 18</td>\n",
       "      <td>2.0</td>\n",
       "    </tr>\n",
       "    <tr>\n",
       "      <th>2</th>\n",
       "      <td>10/03/2020</td>\n",
       "      <td>18 31 36 43 47 20</td>\n",
       "      <td>2.0</td>\n",
       "    </tr>\n",
       "    <tr>\n",
       "      <th>3</th>\n",
       "      <td>10/07/2020</td>\n",
       "      <td>06 24 30 53 56 19</td>\n",
       "      <td>2.0</td>\n",
       "    </tr>\n",
       "    <tr>\n",
       "      <th>4</th>\n",
       "      <td>10/10/2020</td>\n",
       "      <td>05 18 23 40 50 18</td>\n",
       "      <td>3.0</td>\n",
       "    </tr>\n",
       "    <tr>\n",
       "      <th>...</th>\n",
       "      <td>...</td>\n",
       "      <td>...</td>\n",
       "      <td>...</td>\n",
       "    </tr>\n",
       "    <tr>\n",
       "      <th>1396</th>\n",
       "      <td>11/26/2022</td>\n",
       "      <td>15 30 47 50 51 03</td>\n",
       "      <td>10.0</td>\n",
       "    </tr>\n",
       "    <tr>\n",
       "      <th>1397</th>\n",
       "      <td>11/28/2022</td>\n",
       "      <td>29 30 32 48 50 20</td>\n",
       "      <td>2.0</td>\n",
       "    </tr>\n",
       "    <tr>\n",
       "      <th>1398</th>\n",
       "      <td>11/30/2022</td>\n",
       "      <td>04 19 24 47 66 10</td>\n",
       "      <td>2.0</td>\n",
       "    </tr>\n",
       "    <tr>\n",
       "      <th>1399</th>\n",
       "      <td>12/03/2022</td>\n",
       "      <td>06 13 33 36 37 07</td>\n",
       "      <td>4.0</td>\n",
       "    </tr>\n",
       "    <tr>\n",
       "      <th>1400</th>\n",
       "      <td>12/05/2022</td>\n",
       "      <td>35 45 47 54 55 14</td>\n",
       "      <td>2.0</td>\n",
       "    </tr>\n",
       "  </tbody>\n",
       "</table>\n",
       "<p>1401 rows × 3 columns</p>\n",
       "</div>"
      ],
      "text/plain": [
       "       Draw Date    Winning Numbers  Multiplier\n",
       "0     09/26/2020  11 21 27 36 62 24         3.0\n",
       "1     09/30/2020  14 18 36 49 67 18         2.0\n",
       "2     10/03/2020  18 31 36 43 47 20         2.0\n",
       "3     10/07/2020  06 24 30 53 56 19         2.0\n",
       "4     10/10/2020  05 18 23 40 50 18         3.0\n",
       "...          ...                ...         ...\n",
       "1396  11/26/2022  15 30 47 50 51 03        10.0\n",
       "1397  11/28/2022  29 30 32 48 50 20         2.0\n",
       "1398  11/30/2022  04 19 24 47 66 10         2.0\n",
       "1399  12/03/2022  06 13 33 36 37 07         4.0\n",
       "1400  12/05/2022  35 45 47 54 55 14         2.0\n",
       "\n",
       "[1401 rows x 3 columns]"
      ]
     },
     "execution_count": 2,
     "metadata": {},
     "output_type": "execute_result"
    }
   ],
   "source": [
    "#Read CSV file of Lottery Numbers\n",
    "df = pd.read_csv(\"/Users/brycekan/Downloads/Lottery_Powerball_Winning_Numbers__Beginning_2010.csv\")\n",
    "df"
   ]
  },
  {
   "cell_type": "code",
   "execution_count": 23,
   "id": "ef910894",
   "metadata": {},
   "outputs": [
    {
     "data": {
      "text/html": [
       "<div>\n",
       "<style scoped>\n",
       "    .dataframe tbody tr th:only-of-type {\n",
       "        vertical-align: middle;\n",
       "    }\n",
       "\n",
       "    .dataframe tbody tr th {\n",
       "        vertical-align: top;\n",
       "    }\n",
       "\n",
       "    .dataframe thead th {\n",
       "        text-align: right;\n",
       "    }\n",
       "</style>\n",
       "<table border=\"1\" class=\"dataframe\">\n",
       "  <thead>\n",
       "    <tr style=\"text-align: right;\">\n",
       "      <th></th>\n",
       "      <th>Draw Date</th>\n",
       "      <th>Winning Numbers</th>\n",
       "      <th>Multiplier</th>\n",
       "    </tr>\n",
       "  </thead>\n",
       "  <tbody>\n",
       "    <tr>\n",
       "      <th>0</th>\n",
       "      <td>3/25/10</td>\n",
       "      <td>18 29 24 16 63 44</td>\n",
       "      <td>4.0</td>\n",
       "    </tr>\n",
       "    <tr>\n",
       "      <th>1</th>\n",
       "      <td>3/27/10</td>\n",
       "      <td>59 53 19 29 20 03</td>\n",
       "      <td>2.0</td>\n",
       "    </tr>\n",
       "    <tr>\n",
       "      <th>2</th>\n",
       "      <td>5/15/10</td>\n",
       "      <td>38 61 24 31 07 60</td>\n",
       "      <td>15.0</td>\n",
       "    </tr>\n",
       "    <tr>\n",
       "      <th>3</th>\n",
       "      <td>7/21/10</td>\n",
       "      <td>52 21 65 92 34 01</td>\n",
       "      <td>1.0</td>\n",
       "    </tr>\n",
       "  </tbody>\n",
       "</table>\n",
       "</div>"
      ],
      "text/plain": [
       "  Draw Date    Winning Numbers  Multiplier\n",
       "0   3/25/10  18 29 24 16 63 44         4.0\n",
       "1   3/27/10  59 53 19 29 20 03         2.0\n",
       "2   5/15/10  38 61 24 31 07 60        15.0\n",
       "3   7/21/10  52 21 65 92 34 01         1.0"
      ]
     },
     "execution_count": 23,
     "metadata": {},
     "output_type": "execute_result"
    }
   ],
   "source": [
    "#Read second dataframe\n",
    "df2 = pd.read_csv(\"/Users/brycekan/Downloads/Lottery_Powerball_Winning_Numbers__Beginning_2010_part2.csv\")\n",
    "df2_only4 = df2.head(4)\n",
    "df2_only4"
   ]
  },
  {
   "cell_type": "code",
   "execution_count": 24,
   "id": "4798ca1a",
   "metadata": {},
   "outputs": [],
   "source": [
    "#Create a Table to store Lottery Numbers\n",
    "create_table = \"\"\"CREATE TABLE IF NOT EXISTS Lotto (\n",
    "    Draw_Date VARCHAR(255) PRIMARY KEY,\n",
    "    Winning_Numbers FLOAT,\n",
    "    Multiplier FLOAT)\"\"\""
   ]
  },
  {
   "cell_type": "code",
   "execution_count": 25,
   "id": "923e4f8d",
   "metadata": {},
   "outputs": [],
   "source": [
    "#Create a Lottery Database\n",
    "conn = sqlite3.connect('Lottery_database')\n",
    "c = conn.cursor()"
   ]
  },
  {
   "cell_type": "code",
   "execution_count": 26,
   "id": "9177f824",
   "metadata": {},
   "outputs": [],
   "source": [
    "#Execute SQL command\n",
    "c.execute(create_table)\n",
    "conn.commit()"
   ]
  },
  {
   "cell_type": "code",
   "execution_count": 27,
   "id": "50f06e9d",
   "metadata": {},
   "outputs": [
    {
     "data": {
      "text/plain": [
       "1401"
      ]
     },
     "execution_count": 27,
     "metadata": {},
     "output_type": "execute_result"
    }
   ],
   "source": [
    "#Push Dataframe to SQLLite3 Database\n",
    "df.to_sql('Lotto', conn, if_exists='replace', index = False)\n"
   ]
  },
  {
   "cell_type": "code",
   "execution_count": 28,
   "id": "98369b85",
   "metadata": {},
   "outputs": [
    {
     "data": {
      "text/plain": [
       "4"
      ]
     },
     "execution_count": 28,
     "metadata": {},
     "output_type": "execute_result"
    }
   ],
   "source": [
    "#Push Second Dataframe to SQLLite3 Database\n",
    "df2_only4.to_sql('Lotto', conn, if_exists='append', index = False)"
   ]
  },
  {
   "cell_type": "code",
   "execution_count": 35,
   "id": "1465300a",
   "metadata": {},
   "outputs": [
    {
     "data": {
      "text/plain": [
       "[('09/26/2020', '11 21 27 36 62 24', 3.0),\n",
       " ('09/30/2020', '14 18 36 49 67 18', 2.0),\n",
       " ('10/03/2020', '18 31 36 43 47 20', 2.0),\n",
       " ('10/07/2020', '06 24 30 53 56 19', 2.0),\n",
       " ('10/10/2020', '05 18 23 40 50 18', 3.0),\n",
       " ('10/14/2020', '21 37 52 53 58 05', 2.0),\n",
       " ('10/17/2020', '06 10 31 37 44 23', 2.0),\n",
       " ('10/21/2020', '01 03 13 44 56 26', 3.0),\n",
       " ('10/24/2020', '18 20 27 45 65 06', 2.0),\n",
       " ('10/28/2020', '11 28 37 40 53 13', 2.0),\n",
       " ('10/31/2020', '02 06 40 42 55 24', 3.0),\n",
       " ('11/04/2020', '23 32 33 45 49 14', 2.0),\n",
       " ('11/07/2020', '14 16 37 48 58 18', 2.0),\n",
       " ('11/11/2020', '13 15 17 45 63 13', 2.0),\n",
       " ('11/14/2020', '07 15 18 32 45 20', 2.0),\n",
       " ('11/18/2020', '04 05 17 43 52 05', 2.0),\n",
       " ('11/21/2020', '51 54 57 60 69 11', 2.0),\n",
       " ('11/25/2020', '02 57 58 60 65 26', 2.0),\n",
       " ('11/28/2020', '08 12 18 44 51 18', 2.0),\n",
       " ('12/02/2020', '28 31 40 41 46 04', 3.0),\n",
       " ('12/05/2020', '03 04 06 48 53 10', 2.0),\n",
       " ('12/09/2020', '11 14 31 47 48 04', 3.0),\n",
       " ('12/12/2020', '17 54 56 63 69 20', 2.0),\n",
       " ('12/16/2020', '04 23 37 61 67 07', 2.0),\n",
       " ('12/19/2020', '27 32 34 43 52 13', 2.0)]"
      ]
     },
     "execution_count": 35,
     "metadata": {},
     "output_type": "execute_result"
    }
   ],
   "source": [
    "#See if all the data is in the database(Limited to 25 for demonstration purposes)\n",
    "c.execute('''SELECT * FROM Lotto LIMIT 25''').fetchall()"
   ]
  },
  {
   "cell_type": "code",
   "execution_count": 32,
   "id": "6130e5fc",
   "metadata": {},
   "outputs": [
    {
     "data": {
      "text/html": [
       "<div>\n",
       "<style scoped>\n",
       "    .dataframe tbody tr th:only-of-type {\n",
       "        vertical-align: middle;\n",
       "    }\n",
       "\n",
       "    .dataframe tbody tr th {\n",
       "        vertical-align: top;\n",
       "    }\n",
       "\n",
       "    .dataframe thead th {\n",
       "        text-align: right;\n",
       "    }\n",
       "</style>\n",
       "<table border=\"1\" class=\"dataframe\">\n",
       "  <thead>\n",
       "    <tr style=\"text-align: right;\">\n",
       "      <th></th>\n",
       "      <th>Draw Date</th>\n",
       "      <th>Winning Numbers</th>\n",
       "      <th>Multiplier</th>\n",
       "    </tr>\n",
       "  </thead>\n",
       "  <tbody>\n",
       "    <tr>\n",
       "      <th>0</th>\n",
       "      <td>02/20/2021</td>\n",
       "      <td>04 08 22 32 58 04</td>\n",
       "      <td>10.0</td>\n",
       "    </tr>\n",
       "    <tr>\n",
       "      <th>1</th>\n",
       "      <td>08/19/2020</td>\n",
       "      <td>13 23 47 55 58 23</td>\n",
       "      <td>10.0</td>\n",
       "    </tr>\n",
       "    <tr>\n",
       "      <th>2</th>\n",
       "      <td>07/15/2020</td>\n",
       "      <td>27 47 61 62 69 04</td>\n",
       "      <td>10.0</td>\n",
       "    </tr>\n",
       "    <tr>\n",
       "      <th>3</th>\n",
       "      <td>07/08/2020</td>\n",
       "      <td>03 10 34 36 62 05</td>\n",
       "      <td>10.0</td>\n",
       "    </tr>\n",
       "    <tr>\n",
       "      <th>4</th>\n",
       "      <td>09/04/2019</td>\n",
       "      <td>04 08 30 52 59 02</td>\n",
       "      <td>10.0</td>\n",
       "    </tr>\n",
       "    <tr>\n",
       "      <th>5</th>\n",
       "      <td>08/28/2019</td>\n",
       "      <td>09 32 37 41 56 14</td>\n",
       "      <td>10.0</td>\n",
       "    </tr>\n",
       "    <tr>\n",
       "      <th>6</th>\n",
       "      <td>01/31/2018</td>\n",
       "      <td>04 07 14 46 59 22</td>\n",
       "      <td>10.0</td>\n",
       "    </tr>\n",
       "    <tr>\n",
       "      <th>7</th>\n",
       "      <td>03/01/2017</td>\n",
       "      <td>10 16 40 52 55 17</td>\n",
       "      <td>10.0</td>\n",
       "    </tr>\n",
       "    <tr>\n",
       "      <th>8</th>\n",
       "      <td>06/12/2010</td>\n",
       "      <td>09 12 13 35 38 30</td>\n",
       "      <td>10.0</td>\n",
       "    </tr>\n",
       "    <tr>\n",
       "      <th>9</th>\n",
       "      <td>10/06/2021</td>\n",
       "      <td>01 17 52 58 64 01</td>\n",
       "      <td>10.0</td>\n",
       "    </tr>\n",
       "    <tr>\n",
       "      <th>10</th>\n",
       "      <td>01/08/2022</td>\n",
       "      <td>20 21 36 60 65 13</td>\n",
       "      <td>10.0</td>\n",
       "    </tr>\n",
       "    <tr>\n",
       "      <th>11</th>\n",
       "      <td>08/13/2022</td>\n",
       "      <td>19 24 35 43 62 02</td>\n",
       "      <td>10.0</td>\n",
       "    </tr>\n",
       "    <tr>\n",
       "      <th>12</th>\n",
       "      <td>11/26/2022</td>\n",
       "      <td>15 30 47 50 51 03</td>\n",
       "      <td>10.0</td>\n",
       "    </tr>\n",
       "    <tr>\n",
       "      <th>13</th>\n",
       "      <td>5/15/10</td>\n",
       "      <td>38 61 24 31 07 60</td>\n",
       "      <td>15.0</td>\n",
       "    </tr>\n",
       "  </tbody>\n",
       "</table>\n",
       "</div>"
      ],
      "text/plain": [
       "     Draw Date    Winning Numbers  Multiplier\n",
       "0   02/20/2021  04 08 22 32 58 04        10.0\n",
       "1   08/19/2020  13 23 47 55 58 23        10.0\n",
       "2   07/15/2020  27 47 61 62 69 04        10.0\n",
       "3   07/08/2020  03 10 34 36 62 05        10.0\n",
       "4   09/04/2019  04 08 30 52 59 02        10.0\n",
       "5   08/28/2019  09 32 37 41 56 14        10.0\n",
       "6   01/31/2018  04 07 14 46 59 22        10.0\n",
       "7   03/01/2017  10 16 40 52 55 17        10.0\n",
       "8   06/12/2010  09 12 13 35 38 30        10.0\n",
       "9   10/06/2021  01 17 52 58 64 01        10.0\n",
       "10  01/08/2022  20 21 36 60 65 13        10.0\n",
       "11  08/13/2022  19 24 35 43 62 02        10.0\n",
       "12  11/26/2022  15 30 47 50 51 03        10.0\n",
       "13     5/15/10  38 61 24 31 07 60        15.0"
      ]
     },
     "execution_count": 32,
     "metadata": {},
     "output_type": "execute_result"
    }
   ],
   "source": [
    "#query only drawings that have a multiplier of 10 and above\n",
    "query_df_from_sql = pd.DataFrame(c.execute('''SELECT * FROM Lotto WHERE Multiplier >= 10.0 ''').fetchall(),\n",
    "             columns = [description[0] for description in c.description])\n",
    "query_df_from_sql"
   ]
  },
  {
   "cell_type": "code",
   "execution_count": null,
   "id": "88b25e04",
   "metadata": {},
   "outputs": [],
   "source": []
  }
 ],
 "metadata": {
  "kernelspec": {
   "display_name": "Python 3 (ipykernel)",
   "language": "python",
   "name": "python3"
  },
  "language_info": {
   "codemirror_mode": {
    "name": "ipython",
    "version": 3
   },
   "file_extension": ".py",
   "mimetype": "text/x-python",
   "name": "python",
   "nbconvert_exporter": "python",
   "pygments_lexer": "ipython3",
   "version": "3.9.13"
  }
 },
 "nbformat": 4,
 "nbformat_minor": 5
}
